{
 "cells": [
  {
   "cell_type": "code",
   "execution_count": 6,
   "id": "b39857f5",
   "metadata": {},
   "outputs": [],
   "source": [
    "## Import packages and functions needed to plot and access the NOMAD Data\n",
    "\n",
    "import matplotlib.pyplot as plt\n",
    "import numpy as np\n",
    "import pandas as pd\n",
    "import os\n",
    "import shutil\n",
    "import glob\n",
    "import csv\n",
    "import re\n",
    "from matplotlib.backends.backend_pdf import PdfPages\n",
    "import tkinter as tk\n",
    "from tkinter import filedialog, messagebox, simpledialog\n",
    "from scipy.stats import f_oneway\n",
    "from statsmodels.stats.multicomp import pairwise_tukeyhsd\n",
    "\n",
    "from api_calls_get_data import get_specific_data_of_sample, get_entryid, get_quantity_over_jv\n"
   ]
  },
  {
   "cell_type": "code",
   "execution_count": 7,
   "id": "984b1008",
   "metadata": {},
   "outputs": [],
   "source": [
    "def get_filenames(path):\n",
    "    sample_ids = set()  # Use a set to store IDs\n",
    "    \n",
    "    pattern = r\"(.*)\\.px\\d+\\.jv\\.csv\"\n",
    "    \n",
    "    # Go through all files in the directory\n",
    "    for file in glob.iglob(os.path.join(path, \"*.jv*\")):    \n",
    "        # Extract ID from filename\n",
    "        filename = os.path.basename(file)\n",
    "        match = re.match(pattern, filename)\n",
    "        if match:\n",
    "            sample_ids.add(match.group(1))  # Add to set, duplicates are ignored\n",
    "                \n",
    "    return sample_ids"
   ]
  },
  {
   "cell_type": "code",
   "execution_count": 9,
   "id": "199857f5",
   "metadata": {},
   "outputs": [],
   "source": [
    "\n",
    "def get_batch_data(sample_ids):\n",
    "    #Get the NOMAD ID\n",
    "    samples_of_batch = [(sample_id, get_entryid(sample_id)) for sample_id in sample_ids]\n",
    "\n",
    "    #Process in which the quantity was changed\n",
    "    #TODO Make this a variable input as dropdown menu\n",
    "    key = [\"peroTF_CR_SpinBox_SpinCoating\"]\n",
    "    \n",
    "    #Varied quantities to extract \n",
    "    #TODO Make this a variable input as dropdown menu\n",
    "    quantities=[\"name\"]\n",
    "    \n",
    "    #Standard JV parameters to get\n",
    "    jv_quantities=[\"efficiency\",\\\n",
    "                   \"fill_factor\",\\\n",
    "                   \"open_circuit_voltage\",\\\n",
    "                   \"short_circuit_current_density\"]\n",
    "    \n",
    "    #Get data\n",
    "    df = get_quantity_over_jv(samples_of_batch, key, quantities, jv_quantities)\n",
    "    \n",
    "    #Extract Information from ID\n",
    "    df['last_digit'] = df['sample_id'].str.extract('(\\d)$').astype(int)[0]\n",
    "    df['category'] = df['sample_id'].str.split('_').str[4]\n",
    "    df['batch_name'] = df['sample_id'].str.split('_').str[3]\n",
    "    df['batch_date'] = df['sample_id'].str.split('_').str[2]\n",
    "\n",
    "    # Data cleaning remove shunted or somehow damaged devices using filters\n",
    "    df = df[df['fill_factor'] >= 0.3]\n",
    "    df = df[df['open_circuit_voltage'] >= 0.5]\n",
    "    df = df[df[\"fill_factor\"] <= 1]\n",
    "\n",
    "\n",
    "    return df, quantities"
   ]
  },
  {
   "cell_type": "code",
   "execution_count": 124,
   "id": "4a9bb745",
   "metadata": {},
   "outputs": [],
   "source": [
    "def calculate_statistics(df, quantities):    \n",
    "\n",
    "    result_df = pd.DataFrame(columns=['category',\n",
    "                                      'standard_deviation',\n",
    "                                      'median',\n",
    "                                      'closest_median',\n",
    "                                      'closest_median_id',\n",
    "                                      'maximum_efficiency',\n",
    "                                      'maximum_efficiency_id'])\n",
    "\n",
    "    for index, category in enumerate(sorted(df[quantities[0]].unique())):\n",
    "        # Calculate standard deviation\n",
    "        std_dev = df[df[quantities[0]] == category]['efficiency'].std()\n",
    "        # Median and closest value to median\n",
    "        med_eff = df[df[quantities[0]] == category]['efficiency'].median()\n",
    "        closest_med_eff_value = sorted(df[df[quantities[0]] == category]['efficiency'],\n",
    "                                       key=lambda x: abs(x - med_eff - 0.000000001))[:1]\n",
    "        med_id = df[df['efficiency'] == closest_med_eff_value[0]]['sample_id'].values[0]\n",
    "        # Maximum efficiency value\n",
    "        max_eff = df[df[quantities[0]] == category]['efficiency'].max()\n",
    "        max_id = df[df['efficiency'] == max_eff]['sample_id'].values[0]\n",
    "\n",
    "        # Create a temporary DataFrame with the current results\n",
    "        temp_df = pd.DataFrame({\n",
    "            'category': [category],\n",
    "            'standard_deviation': [np.round(std_dev,2)],\n",
    "            'median': [np.round(med_eff)],\n",
    "            'closest_median': [closest_med_eff_value[0]],\n",
    "            'closest_median_id': [med_id],\n",
    "            'maximum_efficiency': [max_eff],\n",
    "            'maximum_efficiency_id': [max_id]\n",
    "            })\n",
    "\n",
    "        # Concatenate the temporary DataFrame with the result DataFrame\n",
    "        result_df = pd.concat([result_df, temp_df], ignore_index=True)\n",
    "\n",
    "    # Perform ANOVA test\n",
    "    f_statistic, p_value = f_oneway(*[group['efficiency'] for name, group in df.groupby(quantities[0])])\n",
    "\n",
    "    if p_value < 0.05:\n",
    "        # Perform Tukey HSD test\n",
    "        tukey_results = pairwise_tukeyhsd(df['efficiency'], df[quantities[0]], alpha=0.05)\n",
    "        print(tukey_results)\n",
    "    else:\n",
    "        print(\"No significant differences between group means.\")\n",
    "            \n",
    "    return result_df\n",
    "\n"
   ]
  },
  {
   "cell_type": "code",
   "execution_count": 110,
   "id": "39d2b504",
   "metadata": {},
   "outputs": [],
   "source": [
    "\n",
    "def plot_JV_curves(result_df, curve_type):\n",
    "    fig, ax = plt.subplots()\n",
    "    \n",
    "    # Define a color palette for the groups\n",
    "    colors = plt.cm.viridis(np.linspace(0, 1, len(result_df)))\n",
    "    \n",
    "    # Set the color cycle for the axes\n",
    "    ax.set_prop_cycle(color=colors)\n",
    "    \n",
    "    for index, row in result_df.iterrows():\n",
    "        jv_data = get_specific_data_of_sample(row[f'{curve_type}_id'], \"JVmeasurement\")\n",
    "        for cell in jv_data:\n",
    "            for i in range(2):\n",
    "                if cell[\"jv_curve\"][i][\"efficiency\"] == row[f'{curve_type}'] and \\\n",
    "                   (curve_type == 'maximum_efficiency' or curve_type == 'closest_median'):\n",
    "                        ax.plot(cell[\"jv_curve\"][i][\"voltage\"], \\\n",
    "                                 cell[\"jv_curve\"][i][\"current_density\"], \\\n",
    "                                 label=f\"{row['category']}\")\n",
    "                        print(cell[\"name\"])\n",
    "                        break\n",
    "\n",
    "    # Plot settings\n",
    "    ax.legend()\n",
    "    ax.set_xlim(-0.2, 1.3)\n",
    "    ax.set_ylim(-5, 25)\n",
    "    ax.set_title(f'{curve_type.capitalize()} JV Curves', fontsize=16)\n",
    "    ax.set_xlabel('Voltage (V)', fontsize=12)\n",
    "    ax.set_ylabel('Current Density(mA/cm²)', fontsize=12)\n",
    "\n",
    "    # Axis ticks and borders\n",
    "    ax.tick_params(axis='both', which='both', direction='in', width=2, bottom=1, top=1, left=1, right=1)\n",
    "    ax.tick_params(labelsize=12)\n",
    "    ax.spines['top'].set_linewidth(2)\n",
    "    ax.spines['bottom'].set_linewidth(2)\n",
    "    ax.spines['left'].set_linewidth(2)\n",
    "    ax.spines['right'].set_linewidth(2)\n",
    "\n",
    "    # Zero lines\n",
    "    ax.axhline(y=0, color='black', linewidth=0.5)\n",
    "    ax.axvline(x=0, color='black', linewidth=0.5)\n",
    "    \n",
    "    #fig.savefig(f\"{curve_type}.png\", dpi=300, transparent=True, bbox_inches='tight')\n",
    "\n",
    "    return fig"
   ]
  },
  {
   "cell_type": "code",
   "execution_count": 12,
   "id": "26effb9b",
   "metadata": {},
   "outputs": [],
   "source": [
    "def plot_box_and_scatter(df, quantities, jv_quantity):\n",
    "    # Define a color palette for the groups\n",
    "    colors = plt.cm.viridis(np.linspace(0, 1, len(df[quantities[0]].unique())))\n",
    "    \n",
    "    # Define Y-Axis Labels\n",
    "    quantity_labels = {\n",
    "        'open_circuit_voltage': 'Open Circuit Voltage (V)',\n",
    "        'fill_factor': 'Fill Factor (%)',\n",
    "        'efficiency': 'Efficiency (%)',\n",
    "        'short_circuit_current_density': 'Short Circuit Current Density (mA/cm²)'\n",
    "    }\n",
    "\n",
    "    fig, ax = plt.subplots(figsize=(10, 5))\n",
    "\n",
    "    positions = [i + 1 for i in range(len(df[quantities[0]].unique()))]  # Define positions for each group\n",
    "\n",
    "    # Draw the box plot without fliers and with colors\n",
    "    boxprops = dict(facecolor='white', color='black')\n",
    "    medianprops = dict(color='red')\n",
    "    for i, (group, color) in enumerate(zip(df[quantities[0]].unique(), colors)):\n",
    "        group_data = df[df[quantities[0]] == group][jv_quantity]\n",
    "        box = ax.boxplot(group_data, positions=[positions[i]], showmeans=False, showfliers=False, widths=0.5, patch_artist=True,\n",
    "                          boxprops=dict(facecolor=color, color='black'),\n",
    "                          medianprops=medianprops)\n",
    "\n",
    "    # Overlay the scatter plot with black points\n",
    "    for i, group in enumerate(df[quantities[0]].unique()):\n",
    "        group_data = df[df[quantities[0]] == group]\n",
    "        # Add jitter to x positions\n",
    "        jittered_x = np.random.normal(loc=positions[i], scale=0.05, size=len(group_data))\n",
    "        ax.scatter(jittered_x, group_data[jv_quantity], color='black', alpha=1, zorder=3)\n",
    "\n",
    "    # Axis label and Ticks\n",
    "    ax.set_ylabel(f\"{quantity_labels[jv_quantity]}\", size=16)\n",
    "    ax.set_xticks(positions)\n",
    "    ax.set_xticklabels(df[quantities[0]].unique(), size=14)\n",
    "    ax.set_yticks(ax.get_yticks())\n",
    "    ax.tick_params(axis='both', labelsize=14)\n",
    "\n",
    "    # Border line and Ticks Formatting\n",
    "    ax.spines['top'].set_visible(True)\n",
    "    ax.spines['right'].set_visible(True)\n",
    "    ax.spines['bottom'].set_linewidth(2)\n",
    "    ax.spines['left'].set_linewidth(2)\n",
    "    ax.spines['top'].set_linewidth(2)\n",
    "    ax.spines['right'].set_linewidth(2)\n",
    "    ax.tick_params(axis='both', right=True, top=True, direction='in', width=2, colors='black', length=5)\n",
    "\n",
    "    # Transparent Background\n",
    "    fig.patch.set_facecolor('none')\n",
    "    ax.patch.set_facecolor('none')\n",
    "\n",
    "    # Save the figure\n",
    "    #fig.savefig(f\"{jv_quantity}.png\", dpi=300, transparent=True, bbox_inches='tight')\n",
    "\n",
    "    return fig\n"
   ]
  },
  {
   "cell_type": "code",
   "execution_count": 111,
   "id": "29018181",
   "metadata": {},
   "outputs": [],
   "source": [
    "def generate_pdf_report(result_df, df, quantities, report_title):\n",
    "    with PdfPages(report_title) as pdf:\n",
    "        # Plot the maximum JV curves\n",
    "        fig_max = plot_JV_curves(result_df, 'maximum_efficiency')\n",
    "        pdf.savefig(fig_max, dpi=300, transparent=True, bbox_inches='tight')\n",
    "        plt.close(fig_max)\n",
    "\n",
    "        # Plot the median JV curves\n",
    "        fig_med = plot_JV_curves(result_df, 'closest_median')\n",
    "        pdf.savefig(fig_med, dpi=300, transparent=True, bbox_inches='tight')\n",
    "        plt.close(fig_med)\n",
    "\n",
    "        # Add any other plots or content to the PDF here\n",
    "        fig_eff = plot_box_and_scatter(df, [quantities[0]], 'efficiency')\n",
    "        pdf.savefig(fig_eff, dpi=300, transparent=True, bbox_inches='tight')\n",
    "        plt.close(fig_eff)\n",
    "        \n",
    "        fig_ff = plot_box_and_scatter(df, [quantities[0]], 'fill_factor')\n",
    "        pdf.savefig(fig_ff, dpi=300, transparent=True, bbox_inches='tight')\n",
    "        plt.close(fig_ff)\n",
    "        \n",
    "        fig_voc = plot_box_and_scatter(df, [quantities[0]], 'open_circuit_voltage')\n",
    "        pdf.savefig(fig_voc, dpi=300, transparent=True, bbox_inches='tight')\n",
    "        plt.close(fig_voc)\n",
    "        \n",
    "        fig_jsc = plot_box_and_scatter(df, [quantities[0]], 'short_circuit_current_density')\n",
    "        pdf.savefig(fig_jsc, dpi=300, transparent=True, bbox_inches='tight')\n",
    "        plt.close(fig_jsc)\n",
    "        \n",
    "        # Add result_df as a table to the PDF\n",
    "        fig_table, ax_table = plt.subplots(figsize=(10, 5))\n",
    "        ax_table.axis('off')  # Hide axis\n",
    "        table = ax_table.table(cellText=round(result_df.values,2), colLabels=result_df.columns, loc='center')\n",
    "        table.auto_set_font_size(False)\n",
    "        table.set_fontsize(8)\n",
    "        pdf.savefig(fig_table, dpi=300, transparent=True, bbox_inches='tight')\n",
    "        plt.close(fig_table)\n",
    "\n",
    "    print(\"PDF report generated successfully.\")"
   ]
  },
  {
   "cell_type": "code",
   "execution_count": 128,
   "id": "b59ddf50",
   "metadata": {},
   "outputs": [],
   "source": [
    "path = \"//129.13.79.200/AG_Lemmer$/Forschungsprojekte/Spektroskopie/Perovskite solar cells/Data/SonSim/Daniel/WBG-Tandem/SAM3H/\""
   ]
  },
  {
   "cell_type": "code",
   "execution_count": 104,
   "id": "1c9f661f",
   "metadata": {},
   "outputs": [],
   "source": [
    "def main():\n",
    "    root = tk.Tk()\n",
    "    root.withdraw()\n",
    "    path = filedialog.askdirectory(title=\"Select Directory\")\n",
    "    if not path:\n",
    "        print(\"No directory selected\")\n",
    "        return\n",
    "\n",
    "    sample_ids = get_filenames(path)\n",
    "    df, quantities = get_batch_data(sample_ids)\n",
    "    result_df = calculate_statistics(df, quantities)\n",
    "    generate_pdf_report(result_df, df, [quantities[0]])\n",
    "    \n",
    "    print(\"ALL TASKS COMPLETED\")\n",
    "\n",
    "\n"
   ]
  },
  {
   "cell_type": "code",
   "execution_count": 152,
   "id": "879cc89a",
   "metadata": {},
   "outputs": [
    {
     "data": {
      "text/plain": [
       "{'KIT_DaBa_20241107_SAM-3H_0_0',\n",
       " 'KIT_DaBa_20241107_SAM-3H_0_1',\n",
       " 'KIT_DaBa_20241107_SAM-3H_0_2',\n",
       " 'KIT_DaBa_20241107_SAM-3H_0_3',\n",
       " 'KIT_DaBa_20241107_SAM-3H_1_1',\n",
       " 'KIT_DaBa_20241107_SAM-3H_1_2',\n",
       " 'KIT_DaBa_20241107_SAM-3H_1_3',\n",
       " 'KIT_DaBa_20241107_SAM-3H_2_0',\n",
       " 'KIT_DaBa_20241107_SAM-3H_2_1',\n",
       " 'KIT_DaBa_20241107_SAM-3H_2_2',\n",
       " 'KIT_DaBa_20241107_SAM-3H_2_3',\n",
       " 'KIT_DaBa_20241107_SAM-3H_3_0',\n",
       " 'KIT_DaBa_20241107_SAM-3H_3_1',\n",
       " 'KIT_DaBa_20241107_SAM-3H_3_2',\n",
       " 'KIT_DaBa_20241107_SAM-3H_3_3'}"
      ]
     },
     "execution_count": 152,
     "metadata": {},
     "output_type": "execute_result"
    }
   ],
   "source": [
    "sample_ids = {'KIT_DaBa_20241107_SAM-3H_0_0'}\n",
    "sample_ids = get_filenames(path)\n",
    "sample_ids"
   ]
  },
  {
   "cell_type": "code",
   "execution_count": 153,
   "id": "9f421cf1",
   "metadata": {},
   "outputs": [
    {
     "data": {
      "text/plain": [
       "[('KIT_DaBa_20241107_SAM-3H_2_0', 'pggKo43y6HJeI_KbWlQ6dD3ZChgh'),\n",
       " ('KIT_DaBa_20241107_SAM-3H_0_2', 'eNS7ysMDi3IkoDgV4GPig_vnChuM'),\n",
       " ('KIT_DaBa_20241107_SAM-3H_0_1', 's18GHd3xaPSPF2JkSkxAxrmRqit9'),\n",
       " ('KIT_DaBa_20241107_SAM-3H_3_0', '431enrvg8U3labDRKPz1Izoxuu0O'),\n",
       " ('KIT_DaBa_20241107_SAM-3H_1_3', 'yConVFGIInyuQOqBWwO04SFXp7WS'),\n",
       " ('KIT_DaBa_20241107_SAM-3H_2_3', 'k5uPe-WnuAL-SotyjEJveLlQFRZ-'),\n",
       " ('KIT_DaBa_20241107_SAM-3H_3_2', 'LP1ZVSb_RYDoBXNXjgcdqMgCn5PE'),\n",
       " ('KIT_DaBa_20241107_SAM-3H_0_3', 'GRLlVHBguFhLsoQz6r-83oDo1sxm'),\n",
       " ('KIT_DaBa_20241107_SAM-3H_1_1', 'HbIdFBlFDgWM3WpQbvdsJZ1V3cTR'),\n",
       " ('KIT_DaBa_20241107_SAM-3H_1_2', 'n7qel7BjipsKZ9lEMKA9zHLyruU0'),\n",
       " ('KIT_DaBa_20241107_SAM-3H_3_3', '4AsLaa6qo_HPdQyAaV4AeDldoV1I'),\n",
       " ('KIT_DaBa_20241107_SAM-3H_3_1', 'NL_jDGAYO8X1N9SGekd6wQWyp8r7'),\n",
       " ('KIT_DaBa_20241107_SAM-3H_0_0', 'SHb05d0Sxy589rsrkYilsS3CiMIP'),\n",
       " ('KIT_DaBa_20241107_SAM-3H_2_2', 'X7HWz5js7zN6RFs8PS3ojcTKgh6_'),\n",
       " ('KIT_DaBa_20241107_SAM-3H_2_1', '00KxVIm3GcFx9upw86ZsRats-_vd')]"
      ]
     },
     "execution_count": 153,
     "metadata": {},
     "output_type": "execute_result"
    }
   ],
   "source": [
    "samples_of_batch = [(sample_id, get_entryid(sample_id)) for sample_id in sample_ids]\n",
    "samples_of_batch"
   ]
  },
  {
   "cell_type": "code",
   "execution_count": 154,
   "id": "5e7889f9",
   "metadata": {},
   "outputs": [
    {
     "name": "stdout",
     "output_type": "stream",
     "text": [
      "No significant differences between group means.\n",
      "KIT_DaBa_20241107_SAM-3H_0_3 px2\n",
      "KIT_DaBa_20241107_SAM-3H_2_2 px3\n",
      "KIT_DaBa_20241107_SAM-3H_1_2 px3\n",
      "KIT_DaBa_20241107_SAM-3H_3_1 px4\n",
      "KIT_DaBa_20241107_SAM-3H_0_0 px4\n",
      "KIT_DaBa_20241107_SAM-3H_2_3 px3\n",
      "KIT_DaBa_20241107_SAM-3H_1_1 px2\n",
      "KIT_DaBa_20241107_SAM-3H_3_0 px4\n"
     ]
    },
    {
     "ename": "TypeError",
     "evalue": "type numpy.ndarray doesn't define __round__ method",
     "output_type": "error",
     "traceback": [
      "\u001b[1;31m---------------------------------------------------------------------------\u001b[0m",
      "\u001b[1;31mTypeError\u001b[0m                                 Traceback (most recent call last)",
      "\u001b[1;32m~\\AppData\\Local\\Temp\\ipykernel_22560\\782130279.py\u001b[0m in \u001b[0;36m<module>\u001b[1;34m\u001b[0m\n\u001b[0;32m      1\u001b[0m \u001b[0mdf\u001b[0m\u001b[1;33m,\u001b[0m \u001b[0mquantities\u001b[0m \u001b[1;33m=\u001b[0m \u001b[0mget_batch_data\u001b[0m\u001b[1;33m(\u001b[0m\u001b[0msample_ids\u001b[0m\u001b[1;33m)\u001b[0m\u001b[1;33m\u001b[0m\u001b[1;33m\u001b[0m\u001b[0m\n\u001b[0;32m      2\u001b[0m \u001b[0mresult_df\u001b[0m \u001b[1;33m=\u001b[0m \u001b[0mcalculate_statistics\u001b[0m\u001b[1;33m(\u001b[0m\u001b[0mdf\u001b[0m\u001b[1;33m,\u001b[0m \u001b[0mquantities\u001b[0m\u001b[1;33m)\u001b[0m\u001b[1;33m\u001b[0m\u001b[1;33m\u001b[0m\u001b[0m\n\u001b[1;32m----> 3\u001b[1;33m \u001b[0mgenerate_pdf_report\u001b[0m\u001b[1;33m(\u001b[0m\u001b[0mresult_df\u001b[0m\u001b[1;33m,\u001b[0m \u001b[0mdf\u001b[0m\u001b[1;33m,\u001b[0m \u001b[1;33m[\u001b[0m\u001b[0mquantities\u001b[0m\u001b[1;33m[\u001b[0m\u001b[1;36m0\u001b[0m\u001b[1;33m]\u001b[0m\u001b[1;33m]\u001b[0m\u001b[1;33m,\u001b[0m \u001b[1;34m\"SAM-3H.pdf\"\u001b[0m\u001b[1;33m)\u001b[0m\u001b[1;33m\u001b[0m\u001b[1;33m\u001b[0m\u001b[0m\n\u001b[0m",
      "\u001b[1;32m~\\AppData\\Local\\Temp\\ipykernel_22560\\397183935.py\u001b[0m in \u001b[0;36mgenerate_pdf_report\u001b[1;34m(result_df, df, quantities, report_title)\u001b[0m\n\u001b[0;32m     31\u001b[0m         \u001b[0mfig_table\u001b[0m\u001b[1;33m,\u001b[0m \u001b[0max_table\u001b[0m \u001b[1;33m=\u001b[0m \u001b[0mplt\u001b[0m\u001b[1;33m.\u001b[0m\u001b[0msubplots\u001b[0m\u001b[1;33m(\u001b[0m\u001b[0mfigsize\u001b[0m\u001b[1;33m=\u001b[0m\u001b[1;33m(\u001b[0m\u001b[1;36m10\u001b[0m\u001b[1;33m,\u001b[0m \u001b[1;36m5\u001b[0m\u001b[1;33m)\u001b[0m\u001b[1;33m)\u001b[0m\u001b[1;33m\u001b[0m\u001b[1;33m\u001b[0m\u001b[0m\n\u001b[0;32m     32\u001b[0m         \u001b[0max_table\u001b[0m\u001b[1;33m.\u001b[0m\u001b[0maxis\u001b[0m\u001b[1;33m(\u001b[0m\u001b[1;34m'off'\u001b[0m\u001b[1;33m)\u001b[0m  \u001b[1;31m# Hide axis\u001b[0m\u001b[1;33m\u001b[0m\u001b[1;33m\u001b[0m\u001b[0m\n\u001b[1;32m---> 33\u001b[1;33m         \u001b[0mtable\u001b[0m \u001b[1;33m=\u001b[0m \u001b[0max_table\u001b[0m\u001b[1;33m.\u001b[0m\u001b[0mtable\u001b[0m\u001b[1;33m(\u001b[0m\u001b[0mcellText\u001b[0m\u001b[1;33m=\u001b[0m\u001b[0mround\u001b[0m\u001b[1;33m(\u001b[0m\u001b[0mresult_df\u001b[0m\u001b[1;33m.\u001b[0m\u001b[0mvalues\u001b[0m\u001b[1;33m,\u001b[0m\u001b[1;36m2\u001b[0m\u001b[1;33m)\u001b[0m\u001b[1;33m,\u001b[0m \u001b[0mcolLabels\u001b[0m\u001b[1;33m=\u001b[0m\u001b[0mresult_df\u001b[0m\u001b[1;33m.\u001b[0m\u001b[0mcolumns\u001b[0m\u001b[1;33m,\u001b[0m \u001b[0mloc\u001b[0m\u001b[1;33m=\u001b[0m\u001b[1;34m'center'\u001b[0m\u001b[1;33m)\u001b[0m\u001b[1;33m\u001b[0m\u001b[1;33m\u001b[0m\u001b[0m\n\u001b[0m\u001b[0;32m     34\u001b[0m         \u001b[0mtable\u001b[0m\u001b[1;33m.\u001b[0m\u001b[0mauto_set_font_size\u001b[0m\u001b[1;33m(\u001b[0m\u001b[1;32mFalse\u001b[0m\u001b[1;33m)\u001b[0m\u001b[1;33m\u001b[0m\u001b[1;33m\u001b[0m\u001b[0m\n\u001b[0;32m     35\u001b[0m         \u001b[0mtable\u001b[0m\u001b[1;33m.\u001b[0m\u001b[0mset_fontsize\u001b[0m\u001b[1;33m(\u001b[0m\u001b[1;36m8\u001b[0m\u001b[1;33m)\u001b[0m\u001b[1;33m\u001b[0m\u001b[1;33m\u001b[0m\u001b[0m\n",
      "\u001b[1;31mTypeError\u001b[0m: type numpy.ndarray doesn't define __round__ method"
     ]
    },
    {
     "data": {
      "image/png": "[encoded data removed]",
      "text/plain": [
       "<Figure size 1000x500 with 1 Axes>"
      ]
     },
     "metadata": {},
     "output_type": "display_data"
    }
   ],
   "source": [
    "\n",
    "    df, quantities = get_batch_data(sample_ids)\n",
    "    result_df = calculate_statistics(df, quantities)\n",
    "    generate_pdf_report(result_df, df, [quantities[0]], \"SAM-3H.pdf\")"
   ]
  },
  {
   "cell_type": "code",
   "execution_count": null,
   "id": "fe23e5f4",
   "metadata": {},
   "outputs": [
    {
     "name": "stdout",
     "output_type": "stream",
     "text": [
      "        Multiple Comparison of Means - Tukey HSD, FWER=0.05         \n",
      "====================================================================\n",
      "    group1         group2     meandiff p-adj   lower   upper  reject\n",
      "--------------------------------------------------------------------\n",
      "WBG 3C (2PACz)   WBG 3C (MeO)  -2.3473    0.0 -3.4175  -1.277   True\n",
      "WBG 3C (2PACz) WBG 3H (2PACz)  -4.5898    0.0 -5.9007  -3.279   True\n",
      "WBG 3C (2PACz)   WBG 3H (MeO)  -0.0694 0.9989 -1.3272  1.1883  False\n",
      "  WBG 3C (MeO) WBG 3H (2PACz)  -2.2426 0.0003 -3.6144 -0.8708   True\n",
      "  WBG 3C (MeO)   WBG 3H (MeO)   2.2778 0.0001  0.9566   3.599   True\n",
      "WBG 3H (2PACz)   WBG 3H (MeO)   4.5204    0.0  2.9978   6.043   True\n",
      "--------------------------------------------------------------------\n",
      "KIT_DaBa_20241120_SAM-3H-2_0_2 px3\n",
      "KIT_DaBa_20241120_SAM-3H-2_2_3 px1\n",
      "KIT_DaBa_20241120_SAM-3H-2_1_3 px4\n",
      "KIT_DaBa_20241120_SAM-3H-2_3_2 px1\n",
      "KIT_DaBa_20241120_SAM-3H-2_0_4 px1\n",
      "KIT_DaBa_20241120_SAM-3H-2_2_3 px3\n",
      "KIT_DaBa_20241120_SAM-3H-2_1_3 px1\n",
      "KIT_DaBa_20241120_SAM-3H-2_3_3 px4\n"
     ]
    },
    {
     "ename": "TypeError",
     "evalue": "type numpy.ndarray doesn't define __round__ method",
     "output_type": "error",
     "traceback": [
      "\u001b[1;31m---------------------------------------------------------------------------\u001b[0m",
      "\u001b[1;31mTypeError\u001b[0m                                 Traceback (most recent call last)",
      "\u001b[1;32m~\\AppData\\Local\\Temp\\ipykernel_22560\\2927104236.py\u001b[0m in \u001b[0;36m<module>\u001b[1;34m\u001b[0m\n\u001b[0;32m      2\u001b[0m \u001b[0mdf\u001b[0m\u001b[1;33m,\u001b[0m \u001b[0mquantities\u001b[0m \u001b[1;33m=\u001b[0m \u001b[0mget_batch_data\u001b[0m\u001b[1;33m(\u001b[0m\u001b[0msample_ids\u001b[0m\u001b[1;33m)\u001b[0m\u001b[1;33m\u001b[0m\u001b[1;33m\u001b[0m\u001b[0m\n\u001b[0;32m      3\u001b[0m \u001b[0mresult_df\u001b[0m \u001b[1;33m=\u001b[0m \u001b[0mcalculate_statistics\u001b[0m\u001b[1;33m(\u001b[0m\u001b[0mdf\u001b[0m\u001b[1;33m,\u001b[0m \u001b[0mquantities\u001b[0m\u001b[1;33m)\u001b[0m\u001b[1;33m\u001b[0m\u001b[1;33m\u001b[0m\u001b[0m\n\u001b[1;32m----> 4\u001b[1;33m \u001b[0mgenerate_pdf_report\u001b[0m\u001b[1;33m(\u001b[0m\u001b[0mresult_df\u001b[0m\u001b[1;33m,\u001b[0m \u001b[0mdf\u001b[0m\u001b[1;33m,\u001b[0m \u001b[1;33m[\u001b[0m\u001b[0mquantities\u001b[0m\u001b[1;33m[\u001b[0m\u001b[1;36m0\u001b[0m\u001b[1;33m]\u001b[0m\u001b[1;33m]\u001b[0m\u001b[1;33m,\u001b[0m \u001b[1;34m\"SAM2H-2_update.pdf\"\u001b[0m\u001b[1;33m)\u001b[0m\u001b[1;33m\u001b[0m\u001b[1;33m\u001b[0m\u001b[0m\n\u001b[0m",
      "\u001b[1;32m~\\AppData\\Local\\Temp\\ipykernel_22560\\397183935.py\u001b[0m in \u001b[0;36mgenerate_pdf_report\u001b[1;34m(result_df, df, quantities, report_title)\u001b[0m\n\u001b[0;32m     31\u001b[0m         \u001b[0mfig_table\u001b[0m\u001b[1;33m,\u001b[0m \u001b[0max_table\u001b[0m \u001b[1;33m=\u001b[0m \u001b[0mplt\u001b[0m\u001b[1;33m.\u001b[0m\u001b[0msubplots\u001b[0m\u001b[1;33m(\u001b[0m\u001b[0mfigsize\u001b[0m\u001b[1;33m=\u001b[0m\u001b[1;33m(\u001b[0m\u001b[1;36m10\u001b[0m\u001b[1;33m,\u001b[0m \u001b[1;36m5\u001b[0m\u001b[1;33m)\u001b[0m\u001b[1;33m)\u001b[0m\u001b[1;33m\u001b[0m\u001b[1;33m\u001b[0m\u001b[0m\n\u001b[0;32m     32\u001b[0m         \u001b[0max_table\u001b[0m\u001b[1;33m.\u001b[0m\u001b[0maxis\u001b[0m\u001b[1;33m(\u001b[0m\u001b[1;34m'off'\u001b[0m\u001b[1;33m)\u001b[0m  \u001b[1;31m# Hide axis\u001b[0m\u001b[1;33m\u001b[0m\u001b[1;33m\u001b[0m\u001b[0m\n\u001b[1;32m---> 33\u001b[1;33m         \u001b[0mtable\u001b[0m \u001b[1;33m=\u001b[0m \u001b[0max_table\u001b[0m\u001b[1;33m.\u001b[0m\u001b[0mtable\u001b[0m\u001b[1;33m(\u001b[0m\u001b[0mcellText\u001b[0m\u001b[1;33m=\u001b[0m\u001b[0mround\u001b[0m\u001b[1;33m(\u001b[0m\u001b[0mresult_df\u001b[0m\u001b[1;33m.\u001b[0m\u001b[0mvalues\u001b[0m\u001b[1;33m,\u001b[0m\u001b[1;36m2\u001b[0m\u001b[1;33m)\u001b[0m\u001b[1;33m,\u001b[0m \u001b[0mcolLabels\u001b[0m\u001b[1;33m=\u001b[0m\u001b[0mresult_df\u001b[0m\u001b[1;33m.\u001b[0m\u001b[0mcolumns\u001b[0m\u001b[1;33m,\u001b[0m \u001b[0mloc\u001b[0m\u001b[1;33m=\u001b[0m\u001b[1;34m'center'\u001b[0m\u001b[1;33m)\u001b[0m\u001b[1;33m\u001b[0m\u001b[1;33m\u001b[0m\u001b[0m\n\u001b[0m\u001b[0;32m     34\u001b[0m         \u001b[0mtable\u001b[0m\u001b[1;33m.\u001b[0m\u001b[0mauto_set_font_size\u001b[0m\u001b[1;33m(\u001b[0m\u001b[1;32mFalse\u001b[0m\u001b[1;33m)\u001b[0m\u001b[1;33m\u001b[0m\u001b[1;33m\u001b[0m\u001b[0m\n\u001b[0;32m     35\u001b[0m         \u001b[0mtable\u001b[0m\u001b[1;33m.\u001b[0m\u001b[0mset_fontsize\u001b[0m\u001b[1;33m(\u001b[0m\u001b[1;36m8\u001b[0m\u001b[1;33m)\u001b[0m\u001b[1;33m\u001b[0m\u001b[1;33m\u001b[0m\u001b[0m\n",
      "\u001b[1;31mTypeError\u001b[0m: type numpy.ndarray doesn't define __round__ method"
     ]
    },
    {
     "data": {
      "image/png": "[encoded data removed]",
      "text/plain": [
       "<Figure size 1000x500 with 1 Axes>"
      ]
     },
     "metadata": {},
     "output_type": "display_data"
    }
   ],
   "source": [
    "    sample_ids = get_filenames(path)\n",
    "    df, quantities = get_batch_data(sample_ids)\n",
    "    result_df = calculate_statistics(df, quantities)\n",
    "    generate_pdf_report(result_df, df, [quantities[0]], \"SAM2H-2.pdf\")\n"
   ]
  },
  {
   "cell_type": "code",
   "execution_count": null,
   "id": "f8639bb4",
   "metadata": {},
   "outputs": [],
   "source": []
  }
 ],
 "metadata": {
  "kernelspec": {
   "display_name": "base",
   "language": "python",
   "name": "python3"
  },
  "language_info": {
   "codemirror_mode": {
    "name": "ipython",
    "version": 3
   },
   "file_extension": ".py",
   "mimetype": "text/x-python",
   "name": "python",
   "nbconvert_exporter": "python",
   "pygments_lexer": "ipython3",
   "version": "3.9.13"
  }
 },
 "nbformat": 4,
 "nbformat_minor": 5
}
